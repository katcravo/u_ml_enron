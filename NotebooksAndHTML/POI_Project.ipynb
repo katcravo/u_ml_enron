{
 "cells": [
  {
   "cell_type": "code",
   "execution_count": 1,
   "metadata": {
    "collapsed": false
   },
   "outputs": [
    {
     "name": "stderr",
     "output_type": "stream",
     "text": [
      "C:\\Users\\KCRAVOTT\\AppData\\Local\\Continuum\\Anaconda2\\lib\\site-packages\\sklearn\\cross_validation.py:44: DeprecationWarning: This module was deprecated in version 0.18 in favor of the model_selection module into which all the refactored classes and functions are moved. Also note that the interface of the new CV iterators are different from that of this module. This module will be removed in 0.20.\n",
      "  \"This module will be removed in 0.20.\", DeprecationWarning)\n"
     ]
    }
   ],
   "source": [
    "#!/usr/bin/python\n",
    "\n",
    "%matplotlib notebook\n",
    "import sys\n",
    "import pickle\n",
    "sys.path.append(\"../tools/\")\n",
    "\n",
    "from feature_format import featureFormat, targetFeatureSplit\n",
    "from tester import dump_classifier_and_data\n",
    "import my_classifier_utils\n",
    "import my_data_utils\n",
    "\n",
    "### Task 1: Select what features you'll use.\n",
    "### features_list is a list of strings, each of which is a feature name.\n",
    "### The first feature must be \"poi\".\n",
    "features_list = ['poi','salary','bonus', 'total_payments','exercised_stock_options','shared_receipt_with_poi','expenses',\n",
    "                'email_to_poi_ratio', 'email_from_poi_ratio', 'exer_stock_ratio'] \n",
    "### Load the dictionary containing the dataset\n",
    "with open(\"final_project_dataset.pkl\", \"r\") as data_file:\n",
    "    data_dict = pickle.load(data_file)"
   ]
  },
  {
   "cell_type": "code",
   "execution_count": 2,
   "metadata": {
    "collapsed": true
   },
   "outputs": [],
   "source": [
    "### Task 2: Remove outliers\n",
    "import my_data_utils"
   ]
  },
  {
   "cell_type": "code",
   "execution_count": 3,
   "metadata": {
    "collapsed": false
   },
   "outputs": [
    {
     "name": "stdout",
     "output_type": "stream",
     "text": [
      "Max salary TOTAL 26704229\n",
      "remove max\n",
      "Max salary SKILLING JEFFREY K 1111258\n"
     ]
    }
   ],
   "source": [
    "my_data_utils.maxPrinter(data_dict, 'salary')\n",
    "print 'remove max'\n",
    "my_data_utils.removeMax(data_dict, 'salary')\n",
    "my_data_utils.maxPrinter(data_dict, 'salary')"
   ]
  },
  {
   "cell_type": "code",
   "execution_count": 4,
   "metadata": {
    "collapsed": false
   },
   "outputs": [],
   "source": [
    "### Task 3: Create new feature(s)\n",
    "#email_to_poi_ratio\n",
    "#email_from_poi_ratio\n",
    "for key in data_dict.keys():\n",
    "    email_to = data_dict[key]['to_messages']\n",
    "    to_poi = data_dict[key]['from_this_person_to_poi']\n",
    "    email_from = data_dict[key]['from_messages']\n",
    "    from_poi = data_dict[key]['from_poi_to_this_person']\n",
    "    exer_stock_opt = data_dict[key]['exercised_stock_options']\n",
    "    total_stock = data_dict[key]['total_stock_value']\n",
    "    \n",
    "    if 'NaN' not in (email_to, to_poi):\n",
    "        data_dict[key]['email_to_poi_ratio'] = float(to_poi)/float(email_to)\n",
    "    else:\n",
    "        data_dict[key]['email_to_poi_ratio'] = 'NaN'\n",
    "    if 'NaN' not in (email_from, from_poi):\n",
    "        data_dict[key]['email_from_poi_ratio'] = float(from_poi)/float(email_from)\n",
    "    else:\n",
    "        data_dict[key]['email_from_poi_ratio'] = 'NaN'\n",
    "    if 'NaN' not in (exer_stock_opt, total_stock):\n",
    "        data_dict[key]['exer_stock_ratio'] = float(exer_stock_opt)/float(total_stock)\n",
    "    else:\n",
    "        data_dict[key]['exer_stock_ratio'] = 'NaN'"
   ]
  },
  {
   "cell_type": "code",
   "execution_count": 5,
   "metadata": {
    "collapsed": false
   },
   "outputs": [],
   "source": [
    "\n",
    "### Store to my_dataset for easy export below.\n",
    "my_dataset = data_dict\n",
    "\n",
    "### Extract features and labels from dataset for local testing\n",
    "data = featureFormat(my_dataset, features_list, sort_keys = True)\n",
    "labels, features = targetFeatureSplit(data)\n",
    "\n",
    "### Task 4: Try a varity of classifiers\n",
    "### Please name your classifier clf for easy export below.\n",
    "### Note that if you want to do PCA or other multi-stage operations,\n",
    "### you'll need to use Pipelines. For more info:\n",
    "### http://scikit-learn.org/stable/modules/pipeline.html\n"
   ]
  },
  {
   "cell_type": "code",
   "execution_count": 6,
   "metadata": {
    "collapsed": false
   },
   "outputs": [
    {
     "name": "stdout",
     "output_type": "stream",
     "text": [
      "Train:\n",
      "True Count:14\n",
      "False Count:85\n",
      "Test:\n",
      "True Count:4\n",
      "False Count:39\n"
     ]
    },
    {
     "data": {
      "text/plain": [
       "39"
      ]
     },
     "execution_count": 6,
     "metadata": {},
     "output_type": "execute_result"
    }
   ],
   "source": [
    "from sklearn.cross_validation import train_test_split\n",
    "features_train, features_test, labels_train, labels_test = \\\n",
    "    train_test_split(features, labels, test_size=0.3, random_state=42)\n",
    "print \"Train:\"\n",
    "my_classifier_utils.count_true(labels_train)\n",
    "my_classifier_utils.count_false(labels_train)\n",
    "print \"Test:\"\n",
    "my_classifier_utils.count_true(labels_test)\n",
    "my_classifier_utils.count_false(labels_test)\n"
   ]
  },
  {
   "cell_type": "code",
   "execution_count": 7,
   "metadata": {
    "collapsed": false
   },
   "outputs": [
    {
     "name": "stdout",
     "output_type": "stream",
     "text": [
      "99 Training Points\n",
      "training time: 0.0 s\n",
      "predict time: 0.0 s\n",
      "accuracy: 1.0\n",
      "Train Precision: 1.0\n",
      "Train Recall: 1.0\n",
      "\n",
      "43 Test Points\n",
      "predict time: 0.0 s\n",
      "accuracy: 0.767441860465\n",
      "10 Wrong ones: [(4, 0.0), (8, 0.0), (11, 1.0), (19, 0.0), (21, 0.0), (25, 0.0), (27, 0.0), (35, 1.0), (36, 1.0), (42, 0.0)]\n",
      "1 True Positives: [22]\n",
      "32 True Negatives: [0, 1, 2, 3, 5, 6, 7, 9, 10, 12, 13, 14, 15, 16, 17, 18, 20, 23, 24, 26, 28, 29, 30, 31, 32, 33, 34, 37, 38, 39, 40, 41]\n",
      "7 False Positives: [4, 8, 19, 21, 25, 27, 42]\n",
      "3 False Negatives: [11, 35, 36]\n",
      "Precision: 0.125\n",
      "Recall: 0.25\n",
      "\n",
      "[ 0.  0.  0.  0.  1.  0.  0.  0.  1.  0.  0.  0.  0.  0.  0.  0.  0.  0.\n",
      "  0.  1.  0.  1.  1.  0.  0.  1.  0.  1.  0.  0.  0.  0.  0.  0.  0.  0.\n",
      "  0.  0.  0.  0.  0.  0.  1.]\n"
     ]
    }
   ],
   "source": [
    "from sklearn import tree\n",
    "dtClf = tree.DecisionTreeClassifier()\n",
    "dt_pred = my_classifier_utils.trainAndTestClassifier (dtClf, features_train, features_test, labels_train, labels_test)\n",
    "print dt_pred"
   ]
  },
  {
   "cell_type": "code",
   "execution_count": 8,
   "metadata": {
    "collapsed": false
   },
   "outputs": [
    {
     "name": "stdout",
     "output_type": "stream",
     "text": [
      "DT Importance:\n",
      "salary : 0.0266068589598\n",
      "bonus : 0.281368547419\n",
      "total_payments : 0.0\n",
      "exercised_stock_options : 0.17774771447\n",
      "shared_receipt_with_poi : 0.0\n",
      "expenses : 0.352600424785\n",
      "email_to_poi_ratio : 0.0245335972227\n",
      "email_from_poi_ratio : 0.0816806722689\n",
      "exer_stock_ratio : 0.0554621848739\n"
     ]
    }
   ],
   "source": [
    "print 'DT Importance:'\n",
    "for i in range (0,len(features_list)-1):\n",
    "    print features_list[i+1], \":\", dtClf.feature_importances_[i]"
   ]
  },
  {
   "cell_type": "code",
   "execution_count": 9,
   "metadata": {
    "collapsed": false
   },
   "outputs": [
    {
     "name": "stdout",
     "output_type": "stream",
     "text": [
      "99 Training Points\n",
      "training time: 0.09 s\n",
      "predict time: 0.0 s\n",
      "accuracy: 1.0\n",
      "Train Precision: 1.0\n",
      "Train Recall: 1.0\n",
      "\n",
      "43 Test Points\n",
      "predict time: 0.01 s\n",
      "accuracy: 0.953488372093\n",
      "2 Wrong ones: [(35, 1.0), (36, 1.0)]\n",
      "2 True Positives: [11, 22]\n",
      "39 True Negatives: [0, 1, 2, 3, 4, 5, 6, 7, 8, 9, 10, 12, 13, 14, 15, 16, 17, 18, 19, 20, 21, 23, 24, 25, 26, 27, 28, 29, 30, 31, 32, 33, 34, 37, 38, 39, 40, 41, 42]\n",
      "0 False Positives: []\n",
      "2 False Negatives: [35, 36]\n",
      "Precision: 1.0\n",
      "Recall: 0.5\n",
      "\n",
      "[ 0.  0.  0.  0.  0.  0.  0.  0.  0.  0.  0.  1.  0.  0.  0.  0.  0.  0.\n",
      "  0.  0.  0.  0.  1.  0.  0.  0.  0.  0.  0.  0.  0.  0.  0.  0.  0.  0.\n",
      "  0.  0.  0.  0.  0.  0.  0.]\n"
     ]
    }
   ],
   "source": [
    "from sklearn.ensemble import AdaBoostClassifier\n",
    "abcDT = AdaBoostClassifier(tree.DecisionTreeClassifier(max_depth=1),\n",
    "                         algorithm=\"SAMME\")\n",
    "abcDT_pred = my_classifier_utils.trainAndTestClassifier (abcDT, features_train, features_test, labels_train, labels_test)\n",
    "print abcDT_pred"
   ]
  },
  {
   "cell_type": "code",
   "execution_count": 10,
   "metadata": {
    "collapsed": false,
    "scrolled": true
   },
   "outputs": [
    {
     "name": "stdout",
     "output_type": "stream",
     "text": [
      "AB Importance:\n",
      "salary : 0.140475207904\n",
      "bonus : 0.114773504593\n",
      "total_payments : 0.107482507215\n",
      "exercised_stock_options : 0.164734472594\n",
      "shared_receipt_with_poi : 0.028200531679\n",
      "expenses : 0.247680005047\n",
      "email_to_poi_ratio : 0.153334408414\n",
      "email_from_poi_ratio : 0.0227344350073\n",
      "exer_stock_ratio : 0.0205849275454\n"
     ]
    }
   ],
   "source": [
    "print 'AB Importance:'\n",
    "for i in range (0,len(features_list)-1):\n",
    "    print features_list[i+1], \":\", abcDT.feature_importances_[i]"
   ]
  },
  {
   "cell_type": "code",
   "execution_count": 11,
   "metadata": {
    "collapsed": false
   },
   "outputs": [
    {
     "name": "stdout",
     "output_type": "stream",
     "text": [
      "99 Training Points\n"
     ]
    },
    {
     "name": "stderr",
     "output_type": "stream",
     "text": [
      "C:\\Users\\KCRAVOTT\\AppData\\Local\\Continuum\\Anaconda2\\lib\\site-packages\\sklearn\\metrics\\classification.py:1113: UndefinedMetricWarning: F-score is ill-defined and being set to 0.0 due to no predicted samples.\n",
      "  'precision', 'predicted', average, warn_for)\n"
     ]
    },
    {
     "name": "stdout",
     "output_type": "stream",
     "text": [
      "training time: 0.25 s\n",
      "predict time: 0.0 s\n",
      "accuracy: 1.0\n",
      "Train Precision: 1.0\n",
      "Train Recall: 1.0\n",
      "\n",
      "43 Test Points\n",
      "predict time: 0.0 s\n",
      "accuracy: 0.790697674419\n",
      "9 Wrong ones: [(4, 0.0), (11, 1.0), (19, 0.0), (21, 0.0), (25, 0.0), (27, 0.0), (35, 1.0), (36, 1.0), (42, 0.0)]\n",
      "1 True Positives: [22]\n",
      "33 True Negatives: [0, 1, 2, 3, 5, 6, 7, 8, 9, 10, 12, 13, 14, 15, 16, 17, 18, 20, 23, 24, 26, 28, 29, 30, 31, 32, 33, 34, 37, 38, 39, 40, 41]\n",
      "6 False Positives: [4, 19, 21, 25, 27, 42]\n",
      "3 False Negatives: [11, 35, 36]\n",
      "Precision: 0.142857142857\n",
      "Recall: 0.25\n",
      "\n",
      "[ 0.  0.  0.  0.  1.  0.  0.  0.  0.  0.  0.  0.  0.  0.  0.  0.  0.  0.\n",
      "  0.  1.  0.  1.  1.  0.  0.  1.  0.  1.  0.  0.  0.  0.  0.  0.  0.  0.\n",
      "  0.  0.  0.  0.  0.  0.  1.]\n",
      "{'min_samples_split': 3, 'criterion': 'gini', 'max_depth': 10}\n"
     ]
    }
   ],
   "source": [
    "parameters = {'max_depth':[2,3,5,8,10,15], 'min_samples_split':[2,3,5], 'criterion' : ['gini','entropy']}\n",
    "tempDTClf = tree.DecisionTreeClassifier()\n",
    "from sklearn.model_selection import GridSearchCV\n",
    "gridClf = GridSearchCV(tempDTClf, parameters, scoring='f1')\n",
    "grid_pred = my_classifier_utils.trainAndTestClassifier (gridClf, features_train, features_test, labels_train, labels_test)\n",
    "print grid_pred\n",
    "print gridClf.best_params_"
   ]
  },
  {
   "cell_type": "code",
   "execution_count": 12,
   "metadata": {
    "collapsed": false
   },
   "outputs": [
    {
     "name": "stdout",
     "output_type": "stream",
     "text": [
      "Grid DT Importance:\n",
      "salary : 0.0266068589598\n",
      "bonus : 0.225906362545\n",
      "total_payments : 0.0\n",
      "exercised_stock_options : 0.159596453966\n",
      "shared_receipt_with_poi : 0.0554621848739\n",
      "expenses : 0.408062609659\n",
      "email_to_poi_ratio : 0.0245335972227\n",
      "email_from_poi_ratio : 0.0998319327731\n",
      "exer_stock_ratio : 0.0\n"
     ]
    }
   ],
   "source": [
    "print 'Grid DT Importance:'\n",
    "for i in range (0,len(features_list)-1):\n",
    "    print features_list[i+1], \":\", gridClf.best_estimator_.feature_importances_[i]"
   ]
  },
  {
   "cell_type": "code",
   "execution_count": 13,
   "metadata": {
    "collapsed": false
   },
   "outputs": [
    {
     "name": "stdout",
     "output_type": "stream",
     "text": [
      "K  0 ABC\n",
      "94 Training Points\n",
      "training time: 0.25 s\n",
      "predict time: 0.0 s\n",
      "accuracy: 0.978723404255\n",
      "Train Precision: 0.909090909091\n",
      "Train Recall: 0.909090909091\n",
      "\n",
      "48 Test Points\n",
      "predict time: 0.0 s\n",
      "accuracy: 0.770833333333\n",
      "11 Wrong ones: [(7, 1.0), (15, 1.0), (20, 1.0), (22, 1.0), (24, 1.0), (26, 0.0), (29, 1.0), (30, 0.0), (33, 0.0), (41, 1.0), (45, 0.0)]\n",
      "0 True Positives: []\n",
      "37 True Negatives: [0, 1, 2, 3, 4, 5, 6, 8, 9, 10, 11, 12, 13, 14, 16, 17, 18, 19, 21, 23, 25, 27, 28, 31, 32, 34, 35, 36, 37, 38, 39, 40, 42, 43, 44, 46, 47]\n",
      "4 False Positives: [26, 30, 33, 45]\n",
      "7 False Negatives: [7, 15, 20, 22, 24, 29, 41]\n",
      "Precision: 0.0\n",
      "Recall: 0.0\n",
      "\n",
      "[ 0.  0.  0.  0.  0.  0.  0.  0.  0.  0.  0.  0.  0.  0.  0.  0.  0.  0.\n",
      "  0.  0.  0.  0.  0.  0.  0.  0.  1.  0.  0.  0.  1.  0.  0.  1.  0.  0.\n",
      "  0.  0.  0.  0.  0.  0.  0.  0.  0.  1.  0.  0.]\n",
      "K  1 ABC\n",
      "95 Training Points\n",
      "training time: 0.24 s\n",
      "predict time: 0.0 s\n",
      "accuracy: 0.989473684211\n",
      "Train Precision: 1.0\n",
      "Train Recall: 0.916666666667\n",
      "\n",
      "47 Test Points\n",
      "predict time: 0.0 s\n",
      "accuracy: 0.808510638298\n",
      "9 Wrong ones: [(4, 1.0), (14, 0.0), (15, 1.0), (18, 0.0), (23, 0.0), (26, 1.0), (27, 1.0), (28, 0.0), (38, 0.0)]\n",
      "2 True Positives: [9, 29]\n",
      "36 True Negatives: [0, 1, 2, 3, 5, 6, 7, 8, 10, 11, 12, 13, 16, 17, 19, 20, 21, 22, 24, 25, 30, 31, 32, 33, 34, 35, 36, 37, 39, 40, 41, 42, 43, 44, 45, 46]\n",
      "5 False Positives: [14, 18, 23, 28, 38]\n",
      "4 False Negatives: [4, 15, 26, 27]\n",
      "Precision: 0.285714285714\n",
      "Recall: 0.333333333333\n",
      "\n",
      "[ 0.  0.  0.  0.  0.  0.  0.  0.  0.  1.  0.  0.  0.  0.  1.  0.  0.  0.\n",
      "  1.  0.  0.  0.  0.  1.  0.  0.  0.  0.  1.  1.  0.  0.  0.  0.  0.  0.\n",
      "  0.  0.  1.  0.  0.  0.  0.  0.  0.  0.  0.]\n",
      "K  2 ABC\n",
      "95 Training Points\n",
      "training time: 0.24 s\n",
      "predict time: 0.0 s\n",
      "accuracy: 1.0\n",
      "Train Precision: 1.0\n",
      "Train Recall: 1.0\n",
      "\n",
      "47 Test Points\n",
      "predict time: 0.0 s\n",
      "accuracy: 0.893617021277\n",
      "5 Wrong ones: [(14, 1.0), (15, 1.0), (21, 1.0), (40, 0.0), (45, 1.0)]\n",
      "1 True Positives: [24]\n",
      "41 True Negatives: [0, 1, 2, 3, 4, 5, 6, 7, 8, 9, 10, 11, 12, 13, 16, 17, 18, 19, 20, 22, 23, 25, 26, 27, 28, 29, 30, 31, 32, 33, 34, 35, 36, 37, 38, 39, 41, 42, 43, 44, 46]\n",
      "1 False Positives: [40]\n",
      "4 False Negatives: [14, 15, 21, 45]\n",
      "Precision: 0.5\n",
      "Recall: 0.2\n",
      "\n",
      "[ 0.  0.  0.  0.  0.  0.  0.  0.  0.  0.  0.  0.  0.  0.  0.  0.  0.  0.\n",
      "  0.  0.  0.  0.  0.  0.  1.  0.  0.  0.  0.  0.  0.  0.  0.  0.  0.  0.\n",
      "  0.  0.  0.  0.  1.  0.  0.  0.  0.  0.  0.]\n"
     ]
    }
   ],
   "source": [
    "my_classifier_utils.my_k_fold_test(gridClf, features, labels)"
   ]
  },
  {
   "cell_type": "code",
   "execution_count": 14,
   "metadata": {
    "collapsed": true
   },
   "outputs": [],
   "source": [
    "dump_classifier_and_data(gridClf, my_dataset, features_list)"
   ]
  }
 ],
 "metadata": {
  "anaconda-cloud": {},
  "kernelspec": {
   "display_name": "Python [default]",
   "language": "python",
   "name": "python2"
  },
  "language_info": {
   "codemirror_mode": {
    "name": "ipython",
    "version": 2
   },
   "file_extension": ".py",
   "mimetype": "text/x-python",
   "name": "python",
   "nbconvert_exporter": "python",
   "pygments_lexer": "ipython2",
   "version": "2.7.12"
  }
 },
 "nbformat": 4,
 "nbformat_minor": 1
}
